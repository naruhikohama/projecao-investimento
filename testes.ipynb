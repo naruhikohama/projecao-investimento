{
 "cells": [
  {
   "cell_type": "code",
   "execution_count": 1,
   "metadata": {},
   "outputs": [],
   "source": [
    "import pandas as pd\n",
    "import plotly.express as px"
   ]
  },
  {
   "cell_type": "code",
   "execution_count": 2,
   "metadata": {},
   "outputs": [],
   "source": [
    "class Investment:\n",
    "    def __init__(self, valor_presente, aporte_mensal, juros_mensais, periodo):\n",
    "        self.valor_presente = valor_presente\n",
    "        self.aporte_mensal = aporte_mensal\n",
    "        self.juros_mensais = juros_mensais\n",
    "        self.periodo = periodo\n",
    "\n",
    "    def montante_final(self):\n",
    "        montante = self.valor_presente * (1 + self.juros_mensais/100)**self.periodo + self.aporte_mensal * ((1 + self.juros_mensais/100)**self.periodo - 1) / (self.juros_mensais/100)\n",
    "        return round(montante, 2)\n",
    "\n",
    "    def aporte_total(self):\n",
    "        aporte_total = self.aporte_mensal * self.periodo\n",
    "        return round(aporte_total, 2)\n",
    "\n",
    "    def valor_gerado_juros(self):\n",
    "        valor_gerado = self.montante_final() - self.valor_presente - self.aporte_total()\n",
    "        return round(valor_gerado, 2)  \n",
    "\n",
    "    def __repr__(self):\n",
    "        return f'''\\\n",
    "        Investimento inicial: R$ {self.valor_presente:,.2f}\n",
    "        Total investido: R$ {self.aporte_mensal * self.periodo + self.valor_presente:,.2f}\n",
    "        Juros gerados: R$ {self.valor_gerado_juros():,.2f}\n",
    "        Montante final: R$ {self.montante_final():,.2f}''' \n",
    "    \n",
    "    def get_dataframe(self):\n",
    "        periods = list(range(1, self.periodo + 1))\n",
    "        aportes = [self.aporte_mensal] * self.periodo\n",
    "        aportes_acumulados = [self.valor_presente + self.aporte_mensal * i for i in periods]\n",
    "        juros_gerados = [\n",
    "            self.valor_presente * (1 + self.juros_mensais/100)**period +  \\\n",
    "            self.aporte_mensal * ((1 + self.juros_mensais/100)**period - 1) /  \\\n",
    "            (self.juros_mensais/100) - self.valor_presente - self.aporte_mensal * period for period in periods\n",
    "            ]\n",
    "        \n",
    "        juros_gerados = [round(juros, 2) for juros in juros_gerados]\n",
    "        \n",
    "        saldo_acumulado = [self.valor_presente + self.aporte_mensal * i + juros_gerados[i - 1] for i in periods]\n",
    "\n",
    "        saldo_acumulado = [round(saldo, 2) for saldo in saldo_acumulado]\n",
    "\n",
    "        data = {'periodo': periods, 'aportes': aportes, 'total_investido': aportes_acumulados, 'juros_gerados': juros_gerados, 'saldo_acumulado': saldo_acumulado}\n",
    "        df = pd.DataFrame(data)\n",
    "        return df\n",
    "    \n",
    "    def plot_graph(self):\n",
    "        df = self.get_dataframe()\n",
    "        fig = px.line(df, x='periodo', y=['total_investido', 'juros_gerados', 'saldo_acumulado'], title='Evolução do investimento')\n",
    "        fig.show()\n",
    "    \n"
   ]
  },
  {
   "cell_type": "code",
   "execution_count": 3,
   "metadata": {},
   "outputs": [],
   "source": [
    "valor_presente = 100_000\n",
    "aporte_mensal = 3_000\n",
    "juros_mensais = 1.2\n",
    "periodo = 120"
   ]
  },
  {
   "cell_type": "code",
   "execution_count": 4,
   "metadata": {},
   "outputs": [],
   "source": [
    "investimento = Investment(valor_presente, aporte_mensal, juros_mensais, periodo)"
   ]
  },
  {
   "cell_type": "code",
   "execution_count": 5,
   "metadata": {},
   "outputs": [
    {
     "name": "stdout",
     "output_type": "stream",
     "text": [
      "        Investimento inicial: R$ 100,000.00\n",
      "        Total investido: R$ 460,000.00\n",
      "        Juros gerados: R$ 754,635.46\n",
      "        Montante final: R$ 1,214,635.46\n"
     ]
    }
   ],
   "source": [
    "print(investimento)"
   ]
  },
  {
   "cell_type": "code",
   "execution_count": 6,
   "metadata": {},
   "outputs": [],
   "source": [
    "investimento2 = Investment(investimento.montante_final(), 0, 1, 60)"
   ]
  },
  {
   "cell_type": "code",
   "execution_count": 7,
   "metadata": {},
   "outputs": [
    {
     "name": "stdout",
     "output_type": "stream",
     "text": [
      "        Investimento inicial: R$ 1,214,635.46\n",
      "        Total investido: R$ 1,214,635.46\n",
      "        Juros gerados: R$ 991,988.77\n",
      "        Montante final: R$ 2,206,624.23\n"
     ]
    }
   ],
   "source": [
    "print(investimento2)"
   ]
  },
  {
   "cell_type": "code",
   "execution_count": 8,
   "metadata": {},
   "outputs": [],
   "source": [
    "df = investimento.get_dataframe()"
   ]
  },
  {
   "cell_type": "code",
   "execution_count": 12,
   "metadata": {},
   "outputs": [
    {
     "ename": "ValueError",
     "evalue": "Mime type rendering requires nbformat>=4.2.0 but it is not installed",
     "output_type": "error",
     "traceback": [
      "\u001b[1;31m---------------------------------------------------------------------------\u001b[0m",
      "\u001b[1;31mValueError\u001b[0m                                Traceback (most recent call last)",
      "Cell \u001b[1;32mIn[12], line 4\u001b[0m\n\u001b[0;32m      1\u001b[0m \u001b[38;5;28;01mimport\u001b[39;00m \u001b[38;5;21;01mplotly\u001b[39;00m\u001b[38;5;21;01m.\u001b[39;00m\u001b[38;5;21;01mexpress\u001b[39;00m \u001b[38;5;28;01mas\u001b[39;00m \u001b[38;5;21;01mpx\u001b[39;00m\n\u001b[0;32m      3\u001b[0m fig \u001b[38;5;241m=\u001b[39m px\u001b[38;5;241m.\u001b[39mline(x\u001b[38;5;241m=\u001b[39mdf[\u001b[38;5;124m'\u001b[39m\u001b[38;5;124mperiodo\u001b[39m\u001b[38;5;124m'\u001b[39m], y\u001b[38;5;241m=\u001b[39mdf[\u001b[38;5;124m'\u001b[39m\u001b[38;5;124msaldo_acumulado\u001b[39m\u001b[38;5;124m'\u001b[39m])\n\u001b[1;32m----> 4\u001b[0m \u001b[43mfig\u001b[49m\u001b[38;5;241;43m.\u001b[39;49m\u001b[43mshow\u001b[49m\u001b[43m(\u001b[49m\u001b[43m)\u001b[49m\n",
      "File \u001b[1;32mc:\\Users\\Naruhiko\\AppData\\Local\\Programs\\Python\\Python311\\Lib\\site-packages\\plotly\\basedatatypes.py:3410\u001b[0m, in \u001b[0;36mBaseFigure.show\u001b[1;34m(self, *args, **kwargs)\u001b[0m\n\u001b[0;32m   3377\u001b[0m \u001b[38;5;250m\u001b[39m\u001b[38;5;124;03m\"\"\"\u001b[39;00m\n\u001b[0;32m   3378\u001b[0m \u001b[38;5;124;03mShow a figure using either the default renderer(s) or the renderer(s)\u001b[39;00m\n\u001b[0;32m   3379\u001b[0m \u001b[38;5;124;03mspecified by the renderer argument\u001b[39;00m\n\u001b[1;32m   (...)\u001b[0m\n\u001b[0;32m   3406\u001b[0m \u001b[38;5;124;03mNone\u001b[39;00m\n\u001b[0;32m   3407\u001b[0m \u001b[38;5;124;03m\"\"\"\u001b[39;00m\n\u001b[0;32m   3408\u001b[0m \u001b[38;5;28;01mimport\u001b[39;00m \u001b[38;5;21;01mplotly\u001b[39;00m\u001b[38;5;21;01m.\u001b[39;00m\u001b[38;5;21;01mio\u001b[39;00m \u001b[38;5;28;01mas\u001b[39;00m \u001b[38;5;21;01mpio\u001b[39;00m\n\u001b[1;32m-> 3410\u001b[0m \u001b[38;5;28;01mreturn\u001b[39;00m \u001b[43mpio\u001b[49m\u001b[38;5;241;43m.\u001b[39;49m\u001b[43mshow\u001b[49m\u001b[43m(\u001b[49m\u001b[38;5;28;43mself\u001b[39;49m\u001b[43m,\u001b[49m\u001b[43m \u001b[49m\u001b[38;5;241;43m*\u001b[39;49m\u001b[43margs\u001b[49m\u001b[43m,\u001b[49m\u001b[43m \u001b[49m\u001b[38;5;241;43m*\u001b[39;49m\u001b[38;5;241;43m*\u001b[39;49m\u001b[43mkwargs\u001b[49m\u001b[43m)\u001b[49m\n",
      "File \u001b[1;32mc:\\Users\\Naruhiko\\AppData\\Local\\Programs\\Python\\Python311\\Lib\\site-packages\\plotly\\io\\_renderers.py:394\u001b[0m, in \u001b[0;36mshow\u001b[1;34m(fig, renderer, validate, **kwargs)\u001b[0m\n\u001b[0;32m    389\u001b[0m         \u001b[38;5;28;01mraise\u001b[39;00m \u001b[38;5;167;01mValueError\u001b[39;00m(\n\u001b[0;32m    390\u001b[0m             \u001b[38;5;124m\"\u001b[39m\u001b[38;5;124mMime type rendering requires ipython but it is not installed\u001b[39m\u001b[38;5;124m\"\u001b[39m\n\u001b[0;32m    391\u001b[0m         )\n\u001b[0;32m    393\u001b[0m     \u001b[38;5;28;01mif\u001b[39;00m \u001b[38;5;129;01mnot\u001b[39;00m nbformat \u001b[38;5;129;01mor\u001b[39;00m Version(nbformat\u001b[38;5;241m.\u001b[39m__version__) \u001b[38;5;241m<\u001b[39m Version(\u001b[38;5;124m\"\u001b[39m\u001b[38;5;124m4.2.0\u001b[39m\u001b[38;5;124m\"\u001b[39m):\n\u001b[1;32m--> 394\u001b[0m         \u001b[38;5;28;01mraise\u001b[39;00m \u001b[38;5;167;01mValueError\u001b[39;00m(\n\u001b[0;32m    395\u001b[0m             \u001b[38;5;124m\"\u001b[39m\u001b[38;5;124mMime type rendering requires nbformat>=4.2.0 but it is not installed\u001b[39m\u001b[38;5;124m\"\u001b[39m\n\u001b[0;32m    396\u001b[0m         )\n\u001b[0;32m    398\u001b[0m     ipython_display\u001b[38;5;241m.\u001b[39mdisplay(bundle, raw\u001b[38;5;241m=\u001b[39m\u001b[38;5;28;01mTrue\u001b[39;00m)\n\u001b[0;32m    400\u001b[0m \u001b[38;5;66;03m# external renderers\u001b[39;00m\n",
      "\u001b[1;31mValueError\u001b[0m: Mime type rendering requires nbformat>=4.2.0 but it is not installed"
     ]
    }
   ],
   "source": [
    "import plotly.express as px\n",
    "\n",
    "fig = px.line(x=df['periodo'], y=df['saldo_acumulado'])\n",
    "fig.show()\n"
   ]
  }
 ],
 "metadata": {
  "kernelspec": {
   "display_name": "Python 3",
   "language": "python",
   "name": "python3"
  },
  "language_info": {
   "codemirror_mode": {
    "name": "ipython",
    "version": 3
   },
   "file_extension": ".py",
   "mimetype": "text/x-python",
   "name": "python",
   "nbconvert_exporter": "python",
   "pygments_lexer": "ipython3",
   "version": "3.11.5"
  }
 },
 "nbformat": 4,
 "nbformat_minor": 2
}
